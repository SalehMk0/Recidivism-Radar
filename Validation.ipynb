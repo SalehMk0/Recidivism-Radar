{
 "cells": [
  {
   "cell_type": "code",
   "execution_count": 1,
   "id": "5f6244a2-93d6-49ff-ac28-97a83b06db57",
   "metadata": {},
   "outputs": [],
   "source": [
    "import pandas as pd"
   ]
  },
  {
   "cell_type": "code",
   "execution_count": 7,
   "id": "0d4707a3-a0c4-436d-949d-28c64532f8bd",
   "metadata": {},
   "outputs": [],
   "source": [
    "# Reading original datasets\n",
    "cases_original = pd.read_csv('current_data/Cases.csv')\n",
    "crimes = pd.read_csv('current_data/crime_and_incarceration_by_state.csv')\n",
    "poverty = pd.read_csv('current_data/poverty.csv')\n",
    "socio = pd.read_csv('current_data/socioeconomics.csv')"
   ]
  },
  {
   "cell_type": "code",
   "execution_count": 13,
   "id": "9e338c2d-7ec2-44bf-b826-b6e9193cf192",
   "metadata": {},
   "outputs": [],
   "source": [
    "# Reading data warehouse tables\n",
    "f_cases = pd.read_csv('dwh_csv/f_cases.csv')\n",
    "f_general = pd.read_csv('dwh_csv/f_general_metrics.csv')\n",
    "d_age = pd.read_csv('dwh_csv/d_age.csv')\n",
    "d_charges = pd.read_csv('dwh_csv/d_charge.csv')\n",
    "d_charge_categories = pd.read_csv('dwh_csv/d_charges_categories.csv')\n",
    "d_sentence = pd.read_csv('dwh_csv/d_sentence.csv')\n",
    "d_states = pd.read_csv('dwh_csv/d_state.csv')\n",
    "d_risk = pd.read_csv('dwh_csv/d_risk_score.csv')\n",
    "d_inmates = pd.read_csv('dwh_csv/d_inmate.csv')\n",
    "d_race = pd.read_csv('dwh_csv/d_race.csv')"
   ]
  },
  {
   "cell_type": "code",
   "execution_count": 15,
   "id": "0c73d845-a292-4442-a770-f3b8c63b04a4",
   "metadata": {},
   "outputs": [
    {
     "data": {
      "text/plain": [
       "(11001, 32)"
      ]
     },
     "execution_count": 15,
     "metadata": {},
     "output_type": "execute_result"
    }
   ],
   "source": [
    "# now checking if no missing data from the first fact table (Cases)\n",
    "cases_original.shape"
   ]
  },
  {
   "cell_type": "code",
   "execution_count": 17,
   "id": "1adcc82f-4dd0-40f0-af0d-e00d8cb6cb97",
   "metadata": {},
   "outputs": [
    {
     "data": {
      "text/plain": [
       "(11013, 21)"
      ]
     },
     "execution_count": 17,
     "metadata": {},
     "output_type": "execute_result"
    }
   ],
   "source": [
    "f_cases.shape"
   ]
  },
  {
   "cell_type": "code",
   "execution_count": 30,
   "id": "a9a5dad8-d90d-4ef7-9ea0-39fda1f71537",
   "metadata": {},
   "outputs": [
    {
     "name": "stdout",
     "output_type": "stream",
     "text": [
      "Unnamed: 0                               int64\n",
      " Case_id                                 int64\n",
      "name                                    object\n",
      "sex                                     object\n",
      "date_of_birth                           object\n",
      "age                                      int64\n",
      "race                                    object\n",
      "juvenile_felony_count                    int64\n",
      "risk_decile_score                        int64\n",
      "juvenile_misdemeanor_count               int64\n",
      "juvenile_other_offense_count             int64\n",
      "prior_offense_count                      int64\n",
      "days_between_screening_and_arrest        int64\n",
      "current_jail_entry_date                 object\n",
      "current_jail_release_date               object\n",
      "days_from_compas_to_current_offense    float64\n",
      "current_charge_degree                   object\n",
      "current_charge_description              object\n",
      "is_recidivist                            int64\n",
      "recidivism_charge_degree                object\n",
      "days_from_arrest_to_recidivism           int64\n",
      "recidivism_offense_date                 object\n",
      "recidivism_charge_description           object\n",
      "is_violent_recidivist                    int64\n",
      "recidivism_risk_decile_score             int64\n",
      "risk_score_category                     object\n",
      "screening_date                          object\n",
      "violence_risk_decile_score               int64\n",
      "violence_risk_score_category            object\n",
      "age_bins                                object\n",
      "charge_category                         object\n",
      "sentence_type                           object\n",
      "dtype: object Case_id                                 int64\n",
      "juvenile_felony_count                   int64\n",
      "juvenile_misdemeanor_count              int64\n",
      "juvenile_other_offense_count            int64\n",
      "prior_offense_count                     int64\n",
      "days_between_screening_and_arrest       int64\n",
      "days_from_compas_to_current_offense     int64\n",
      "is_recidivist                           int64\n",
      "arrest_to_rec                           int64\n",
      "is_violent_recidivist                   int64\n",
      "charge_id                               int64\n",
      "rec_charge_id                           int64\n",
      "inmate_id                               int64\n",
      "sentence_type_id                        int64\n",
      "state_id                                int64\n",
      "recidivism_risk_score_id                int64\n",
      "violence_risk_score_id                  int64\n",
      "screening_date                         object\n",
      "current_jail_entry_date                object\n",
      "current_jail_release_date              object\n",
      "recidivism_offense_date                object\n",
      "dtype: object\n"
     ]
    }
   ],
   "source": [
    "print(cases_original.dtypes, f_cases.dtypes)"
   ]
  },
  {
   "cell_type": "code",
   "execution_count": 34,
   "id": "2d4b5f72-d548-42d1-b6ee-00879c132e0a",
   "metadata": {},
   "outputs": [
    {
     "data": {
      "text/plain": [
       "(5, 2)"
      ]
     },
     "execution_count": 34,
     "metadata": {},
     "output_type": "execute_result"
    }
   ],
   "source": [
    "# now validating the dimension d_age\n",
    "d_age.shape"
   ]
  },
  {
   "cell_type": "code",
   "execution_count": 36,
   "id": "fa49c8df-a129-4e0c-86ca-d89fbe53d1ad",
   "metadata": {},
   "outputs": [
    {
     "data": {
      "text/plain": [
       "5"
      ]
     },
     "execution_count": 36,
     "metadata": {},
     "output_type": "execute_result"
    }
   ],
   "source": [
    "cases_original['age_bins'].nunique()"
   ]
  },
  {
   "cell_type": "code",
   "execution_count": 38,
   "id": "faedb43f-4670-4b5b-bc0d-8e3e338ddd82",
   "metadata": {},
   "outputs": [
    {
     "data": {
      "text/plain": [
       "(514, 4)"
      ]
     },
     "execution_count": 38,
     "metadata": {},
     "output_type": "execute_result"
    }
   ],
   "source": [
    "# now checking the dimension charges\n",
    "d_charges.shape"
   ]
  },
  {
   "cell_type": "code",
   "execution_count": 40,
   "id": "4839be98-8bfb-4bde-9bc6-594c74933737",
   "metadata": {},
   "outputs": [
    {
     "data": {
      "text/plain": [
       "514"
      ]
     },
     "execution_count": 40,
     "metadata": {},
     "output_type": "execute_result"
    }
   ],
   "source": [
    "cases_original['current_charge_description'].nunique()"
   ]
  },
  {
   "cell_type": "code",
   "execution_count": 42,
   "id": "0f561f05-726d-4b2b-bca3-4e9c69c6be16",
   "metadata": {},
   "outputs": [
    {
     "data": {
      "text/plain": [
       "(9, 2)"
      ]
     },
     "execution_count": 42,
     "metadata": {},
     "output_type": "execute_result"
    }
   ],
   "source": [
    "# now checking the dimension charge categories\n",
    "d_charge_categories.shape"
   ]
  },
  {
   "cell_type": "code",
   "execution_count": 44,
   "id": "f9f1001b-677c-4952-a3bd-a54ed69f10e0",
   "metadata": {},
   "outputs": [
    {
     "data": {
      "text/plain": [
       "9"
      ]
     },
     "execution_count": 44,
     "metadata": {},
     "output_type": "execute_result"
    }
   ],
   "source": [
    "cases_original['charge_category'].nunique()"
   ]
  },
  {
   "cell_type": "code",
   "execution_count": 46,
   "id": "67b938c1-ce81-4b0b-9711-39dcf74b6543",
   "metadata": {},
   "outputs": [
    {
     "data": {
      "text/plain": [
       "(6, 2)"
      ]
     },
     "execution_count": 46,
     "metadata": {},
     "output_type": "execute_result"
    }
   ],
   "source": [
    "# now validating the dimension races\n",
    "d_race.shape"
   ]
  },
  {
   "cell_type": "code",
   "execution_count": 48,
   "id": "645fc400-2f54-46dc-8615-2ef4f9ca83df",
   "metadata": {},
   "outputs": [
    {
     "data": {
      "text/plain": [
       "6"
      ]
     },
     "execution_count": 48,
     "metadata": {},
     "output_type": "execute_result"
    }
   ],
   "source": [
    "cases_original['race'].nunique()"
   ]
  },
  {
   "cell_type": "code",
   "execution_count": 50,
   "id": "f399f2a1-5d4f-4b0c-b9a4-6a87b86e6816",
   "metadata": {},
   "outputs": [
    {
     "data": {
      "text/plain": [
       "3"
      ]
     },
     "execution_count": 50,
     "metadata": {},
     "output_type": "execute_result"
    }
   ],
   "source": [
    "# now validating the dimension sentence\n",
    "cases_original['sentence_type'].nunique()"
   ]
  },
  {
   "cell_type": "code",
   "execution_count": 52,
   "id": "8c454798-197e-457b-85c0-cc9a36ebe481",
   "metadata": {},
   "outputs": [
    {
     "data": {
      "text/plain": [
       "(3, 2)"
      ]
     },
     "execution_count": 52,
     "metadata": {},
     "output_type": "execute_result"
    }
   ],
   "source": [
    "d_sentence.shape"
   ]
  },
  {
   "cell_type": "code",
   "execution_count": 54,
   "id": "b772a51f-8ad0-483c-b9fb-e246a7a5e2fe",
   "metadata": {},
   "outputs": [
    {
     "data": {
      "text/plain": [
       "(11001, 7)"
      ]
     },
     "execution_count": 54,
     "metadata": {},
     "output_type": "execute_result"
    }
   ],
   "source": [
    "#validating the inmates dimension\n",
    "d_inmates.shape"
   ]
  },
  {
   "cell_type": "code",
   "execution_count": 63,
   "id": "c87ca9ec-7dac-4f02-b439-82fc613e24e1",
   "metadata": {},
   "outputs": [
    {
     "data": {
      "text/plain": [
       "11001"
      ]
     },
     "execution_count": 63,
     "metadata": {},
     "output_type": "execute_result"
    }
   ],
   "source": [
    "cases_original[' Case_id'].nunique()"
   ]
  },
  {
   "cell_type": "code",
   "execution_count": 65,
   "id": "ac030887-4821-4412-a68d-05f046668ab8",
   "metadata": {},
   "outputs": [
    {
     "data": {
      "text/plain": [
       "11"
      ]
     },
     "execution_count": 65,
     "metadata": {},
     "output_type": "execute_result"
    }
   ],
   "source": [
    "# validating risk dimensions\n",
    "cases_original['risk_decile_score'].nunique()"
   ]
  },
  {
   "cell_type": "code",
   "execution_count": 67,
   "id": "a9adc760-7d6b-4683-b7ff-9ba7283de765",
   "metadata": {},
   "outputs": [
    {
     "data": {
      "text/plain": [
       "(11, 3)"
      ]
     },
     "execution_count": 67,
     "metadata": {},
     "output_type": "execute_result"
    }
   ],
   "source": [
    "d_risk.shape"
   ]
  }
 ],
 "metadata": {
  "kernelspec": {
   "display_name": "Python 3 (ipykernel)",
   "language": "python",
   "name": "python3"
  },
  "language_info": {
   "codemirror_mode": {
    "name": "ipython",
    "version": 3
   },
   "file_extension": ".py",
   "mimetype": "text/x-python",
   "name": "python",
   "nbconvert_exporter": "python",
   "pygments_lexer": "ipython3",
   "version": "3.11.7"
  }
 },
 "nbformat": 4,
 "nbformat_minor": 5
}

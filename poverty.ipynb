{
 "cells": [
  {
   "cell_type": "code",
   "execution_count": 3,
   "id": "c0b06b05-c8b1-4327-be87-d08b09af4a50",
   "metadata": {},
   "outputs": [],
   "source": [
    "import pandas as pd\n",
    "from datetime import datetime"
   ]
  },
  {
   "cell_type": "code",
   "execution_count": 5,
   "id": "c3a7a99f-8164-4470-a80c-26b84d607903",
   "metadata": {},
   "outputs": [],
   "source": [
    "df = pd.read_csv('current_data/poverty.csv')"
   ]
  },
  {
   "cell_type": "code",
   "execution_count": 7,
   "id": "b69d10ac-4e33-4856-a7f2-44567cc50aab",
   "metadata": {},
   "outputs": [
    {
     "data": {
      "text/plain": [
       "Year                  0\n",
       "State                 0\n",
       "Poverty Universe      0\n",
       "Number in Poverty     0\n",
       "Percent in Poverty    0\n",
       "dtype: int64"
      ]
     },
     "execution_count": 7,
     "metadata": {},
     "output_type": "execute_result"
    }
   ],
   "source": [
    "df.isna().sum()"
   ]
  },
  {
   "cell_type": "code",
   "execution_count": 9,
   "id": "f4dde992-dc22-43bd-b384-82015b28c537",
   "metadata": {},
   "outputs": [
    {
     "data": {
      "text/plain": [
       "Index(['Year', 'State', 'Poverty Universe', 'Number in Poverty',\n",
       "       'Percent in Poverty'],\n",
       "      dtype='object')"
      ]
     },
     "execution_count": 9,
     "metadata": {},
     "output_type": "execute_result"
    }
   ],
   "source": [
    "df.columns"
   ]
  },
  {
   "cell_type": "code",
   "execution_count": 11,
   "id": "d9990b01-ff89-40e8-92c5-e8377980aa71",
   "metadata": {},
   "outputs": [
    {
     "data": {
      "text/plain": [
       "Year                    int64\n",
       "State                  object\n",
       "Poverty Universe        int64\n",
       "Number in Poverty       int64\n",
       "Percent in Poverty    float64\n",
       "dtype: object"
      ]
     },
     "execution_count": 11,
     "metadata": {},
     "output_type": "execute_result"
    }
   ],
   "source": [
    "df.dtypes"
   ]
  },
  {
   "cell_type": "code",
   "execution_count": 27,
   "id": "29b05215-106c-4e9c-abee-49c9b9a92ce9",
   "metadata": {},
   "outputs": [],
   "source": [
    "df = df.rename(columns={'Year':'date'})"
   ]
  },
  {
   "cell_type": "code",
   "execution_count": 29,
   "id": "7025dc6c-b8d8-4323-a5e4-a3d7d5b97ee0",
   "metadata": {},
   "outputs": [],
   "source": [
    "df['date'] = pd.to_datetime(df['date'], format='%Y')\n",
    "df['date'] = df['date'].dt.strftime('01-01-%Y')  "
   ]
  },
  {
   "cell_type": "code",
   "execution_count": 31,
   "id": "23f910c8-aea2-4c17-8697-b4332d322dc0",
   "metadata": {},
   "outputs": [],
   "source": [
    "df['date'] = pd.to_datetime(df['date'], format='%d-%m-%Y')"
   ]
  },
  {
   "cell_type": "code",
   "execution_count": 33,
   "id": "05aec683-f917-4fc7-b859-23dfc2371744",
   "metadata": {},
   "outputs": [],
   "source": [
    "df.to_csv('current_data/poverty.csv', index = False)"
   ]
  },
  {
   "cell_type": "code",
   "execution_count": 35,
   "id": "4fe707f3-6909-4347-88d7-ee180fe121a6",
   "metadata": {},
   "outputs": [
    {
     "data": {
      "text/plain": [
       "0     2011-01-01\n",
       "1     2011-01-01\n",
       "2     2011-01-01\n",
       "3     2011-01-01\n",
       "4     2011-01-01\n",
       "         ...    \n",
       "567   2021-01-01\n",
       "568   2021-01-01\n",
       "569   2021-01-01\n",
       "570   2021-01-01\n",
       "571   2021-01-01\n",
       "Name: date, Length: 572, dtype: datetime64[ns]"
      ]
     },
     "execution_count": 35,
     "metadata": {},
     "output_type": "execute_result"
    }
   ],
   "source": [
    "df['date']"
   ]
  },
  {
   "cell_type": "code",
   "execution_count": 24,
   "id": "0694988c-c409-4c31-ae99-a3de5007898d",
   "metadata": {},
   "outputs": [],
   "source": [
    "df = df.drop('ID', axis=1)"
   ]
  },
  {
   "cell_type": "code",
   "execution_count": 26,
   "id": "a3578b48-8451-4345-b6dc-a379ad7065ed",
   "metadata": {},
   "outputs": [],
   "source": [
    "df.to_csv('current_data/poverty.csv', index = False)"
   ]
  },
  {
   "cell_type": "code",
   "execution_count": 35,
   "id": "cca1fcfe-66c0-4a76-9c25-7343c84f4df6",
   "metadata": {},
   "outputs": [],
   "source": [
    "df = df.rename(columns={'Name': 'State'})"
   ]
  },
  {
   "cell_type": "code",
   "execution_count": 37,
   "id": "7b354eb5-63ce-4b9e-b1b2-ea8b822534e9",
   "metadata": {},
   "outputs": [
    {
     "data": {
      "text/html": [
       "<div>\n",
       "<style scoped>\n",
       "    .dataframe tbody tr th:only-of-type {\n",
       "        vertical-align: middle;\n",
       "    }\n",
       "\n",
       "    .dataframe tbody tr th {\n",
       "        vertical-align: top;\n",
       "    }\n",
       "\n",
       "    .dataframe thead th {\n",
       "        text-align: right;\n",
       "    }\n",
       "</style>\n",
       "<table border=\"1\" class=\"dataframe\">\n",
       "  <thead>\n",
       "    <tr style=\"text-align: right;\">\n",
       "      <th></th>\n",
       "      <th>Year</th>\n",
       "      <th>State</th>\n",
       "      <th>Poverty Universe</th>\n",
       "      <th>Number in Poverty</th>\n",
       "      <th>Percent in Poverty</th>\n",
       "    </tr>\n",
       "  </thead>\n",
       "  <tbody>\n",
       "    <tr>\n",
       "      <th>0</th>\n",
       "      <td>2011</td>\n",
       "      <td>United States</td>\n",
       "      <td>303778193</td>\n",
       "      <td>48452035</td>\n",
       "      <td>15.9</td>\n",
       "    </tr>\n",
       "    <tr>\n",
       "      <th>1</th>\n",
       "      <td>2011</td>\n",
       "      <td>Alabama</td>\n",
       "      <td>4687327</td>\n",
       "      <td>896117</td>\n",
       "      <td>19.1</td>\n",
       "    </tr>\n",
       "    <tr>\n",
       "      <th>2</th>\n",
       "      <td>2011</td>\n",
       "      <td>Alaska</td>\n",
       "      <td>706859</td>\n",
       "      <td>76021</td>\n",
       "      <td>10.8</td>\n",
       "    </tr>\n",
       "    <tr>\n",
       "      <th>3</th>\n",
       "      <td>2011</td>\n",
       "      <td>Arizona</td>\n",
       "      <td>6336450</td>\n",
       "      <td>1201376</td>\n",
       "      <td>19.0</td>\n",
       "    </tr>\n",
       "    <tr>\n",
       "      <th>4</th>\n",
       "      <td>2011</td>\n",
       "      <td>Arkansas</td>\n",
       "      <td>2856679</td>\n",
       "      <td>550079</td>\n",
       "      <td>19.3</td>\n",
       "    </tr>\n",
       "    <tr>\n",
       "      <th>...</th>\n",
       "      <td>...</td>\n",
       "      <td>...</td>\n",
       "      <td>...</td>\n",
       "      <td>...</td>\n",
       "      <td>...</td>\n",
       "    </tr>\n",
       "    <tr>\n",
       "      <th>567</th>\n",
       "      <td>2021</td>\n",
       "      <td>Virginia</td>\n",
       "      <td>8401206</td>\n",
       "      <td>862792</td>\n",
       "      <td>10.3</td>\n",
       "    </tr>\n",
       "    <tr>\n",
       "      <th>568</th>\n",
       "      <td>2021</td>\n",
       "      <td>Washington</td>\n",
       "      <td>7599990</td>\n",
       "      <td>755589</td>\n",
       "      <td>9.9</td>\n",
       "    </tr>\n",
       "    <tr>\n",
       "      <th>569</th>\n",
       "      <td>2021</td>\n",
       "      <td>West Virginia</td>\n",
       "      <td>1734924</td>\n",
       "      <td>291051</td>\n",
       "      <td>16.8</td>\n",
       "    </tr>\n",
       "    <tr>\n",
       "      <th>570</th>\n",
       "      <td>2021</td>\n",
       "      <td>Wisconsin</td>\n",
       "      <td>5754791</td>\n",
       "      <td>622948</td>\n",
       "      <td>10.8</td>\n",
       "    </tr>\n",
       "    <tr>\n",
       "      <th>571</th>\n",
       "      <td>2021</td>\n",
       "      <td>Wyoming</td>\n",
       "      <td>565737</td>\n",
       "      <td>60226</td>\n",
       "      <td>10.6</td>\n",
       "    </tr>\n",
       "  </tbody>\n",
       "</table>\n",
       "<p>572 rows × 5 columns</p>\n",
       "</div>"
      ],
      "text/plain": [
       "     Year          State  Poverty Universe  Number in Poverty  \\\n",
       "0    2011  United States         303778193           48452035   \n",
       "1    2011        Alabama           4687327             896117   \n",
       "2    2011         Alaska            706859              76021   \n",
       "3    2011        Arizona           6336450            1201376   \n",
       "4    2011       Arkansas           2856679             550079   \n",
       "..    ...            ...               ...                ...   \n",
       "567  2021       Virginia           8401206             862792   \n",
       "568  2021     Washington           7599990             755589   \n",
       "569  2021  West Virginia           1734924             291051   \n",
       "570  2021      Wisconsin           5754791             622948   \n",
       "571  2021        Wyoming            565737              60226   \n",
       "\n",
       "     Percent in Poverty  \n",
       "0                  15.9  \n",
       "1                  19.1  \n",
       "2                  10.8  \n",
       "3                  19.0  \n",
       "4                  19.3  \n",
       "..                  ...  \n",
       "567                10.3  \n",
       "568                 9.9  \n",
       "569                16.8  \n",
       "570                10.8  \n",
       "571                10.6  \n",
       "\n",
       "[572 rows x 5 columns]"
      ]
     },
     "execution_count": 37,
     "metadata": {},
     "output_type": "execute_result"
    }
   ],
   "source": [
    "df"
   ]
  },
  {
   "cell_type": "code",
   "execution_count": 41,
   "id": "571a340a-d599-4881-9930-2eaba9572613",
   "metadata": {},
   "outputs": [],
   "source": [
    "df.to_csv('current_data/poverty.csv', index = False)"
   ]
  }
 ],
 "metadata": {
  "kernelspec": {
   "display_name": "Python 3 (ipykernel)",
   "language": "python",
   "name": "python3"
  },
  "language_info": {
   "codemirror_mode": {
    "name": "ipython",
    "version": 3
   },
   "file_extension": ".py",
   "mimetype": "text/x-python",
   "name": "python",
   "nbconvert_exporter": "python",
   "pygments_lexer": "ipython3",
   "version": "3.11.7"
  }
 },
 "nbformat": 4,
 "nbformat_minor": 5
}

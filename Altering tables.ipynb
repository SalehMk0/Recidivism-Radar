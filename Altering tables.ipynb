{
 "cells": [
  {
   "cell_type": "code",
   "execution_count": 2,
   "id": "a97a9352-c24a-4bc6-b58d-a60eef51ef51",
   "metadata": {},
   "outputs": [],
   "source": [
    "import pandas as pd"
   ]
  },
  {
   "cell_type": "code",
   "execution_count": 67,
   "id": "a641822d-860e-41ee-bc87-5f03b7ab908a",
   "metadata": {},
   "outputs": [],
   "source": [
    "cases = pd.read_csv('dwh_csv/f_cases.csv')\n",
    "general = pd.read_csv('dwh_csv/f_general_metrics.csv')\n",
    "inmates = pd.read_csv('dwh_csv/d_inmate.csv')\n",
    "dates = pd.read_csv('dwh_csv/d_date.csv')\n",
    "old_cases = pd.read_csv('current_data/Cases.csv')"
   ]
  },
  {
   "cell_type": "code",
   "execution_count": 69,
   "id": "3495918f-c4fd-4bad-9c6f-ad7f2b572fd5",
   "metadata": {},
   "outputs": [
    {
     "name": "stdout",
     "output_type": "stream",
     "text": [
      "Common columns: {'juvenile_misdemeanor_count', 'juvenile_other_offense_count', ' Case_id', 'days_from_compas_to_current_offense', 'prior_offense_count', 'days_between_screening_and_arrest', 'juvenile_felony_count', 'is_violent_recidivist', 'is_recidivist'}\n"
     ]
    }
   ],
   "source": [
    "# Check the common columns between the two DataFrames\n",
    "common_columns = set(cases.columns).intersection(set(old_cases.columns))\n",
    "print(f\"Common columns: {common_columns}\")\n"
   ]
  },
  {
   "cell_type": "code",
   "execution_count": 80,
   "id": "5e677ccb-e6f2-45c0-85f6-9af56f29bb62",
   "metadata": {},
   "outputs": [
    {
     "name": "stdout",
     "output_type": "stream",
     "text": [
      "Index([' Case_id', 'juvenile_felony_count', 'juvenile_misdemeanor_count',\n",
      "       'juvenile_other_offense_count', 'prior_offense_count',\n",
      "       'days_between_screening_and_arrest',\n",
      "       'days_from_compas_to_current_offense', 'is_recidivist', 'arrest_to_rec',\n",
      "       'is_violent_recidivist', 'charge_id', 'rec_charge_id', 'inmate_id',\n",
      "       'sentence_type_id', 'state_id', 'recidivism_offense_date_id',\n",
      "       'current_jail_entry_date_id', 'current_jail_release_date_id',\n",
      "       'screening_date_id', 'recidivism_risk_score_id',\n",
      "       'violence_risk_score_id'],\n",
      "      dtype='object')\n",
      "Index(['Unnamed: 0', ' Case_id', 'name', 'sex', 'date_of_birth', 'age', 'race',\n",
      "       'juvenile_felony_count', 'risk_decile_score',\n",
      "       'juvenile_misdemeanor_count', 'juvenile_other_offense_count',\n",
      "       'prior_offense_count', 'days_between_screening_and_arrest',\n",
      "       'current_jail_entry_date', 'current_jail_release_date',\n",
      "       'days_from_compas_to_current_offense', 'current_charge_degree',\n",
      "       'current_charge_description', 'is_recidivist',\n",
      "       'recidivism_charge_degree', 'days_from_arrest_to_recidivism',\n",
      "       'recidivism_offense_date', 'recidivism_charge_description',\n",
      "       'is_violent_recidivist', 'recidivism_risk_decile_score',\n",
      "       'risk_score_category', 'screening_date', 'violence_risk_decile_score',\n",
      "       'violence_risk_score_category', 'age_bins', 'charge_category',\n",
      "       'sentence_type'],\n",
      "      dtype='object')\n"
     ]
    }
   ],
   "source": [
    "print(cases.columns)\n",
    "print(old_cases.columns)\n"
   ]
  },
  {
   "cell_type": "code",
   "execution_count": 83,
   "id": "c29b1817-eab6-4223-a0d3-0f5d0b6e04b0",
   "metadata": {},
   "outputs": [],
   "source": [
    "# Strip leading/trailing spaces from column names\n",
    "cases.columns = cases.columns.str.strip()\n",
    "old_cases.columns = old_cases.columns.str.strip()\n",
    "\n",
    "# Merge cases with old_cases based on 'Case_id'\n",
    "merged_cases = cases.merge(old_cases[['Case_id', 'screening_date', 'current_jail_entry_date', 'current_jail_release_date', 'recidivism_offense_date']],\n",
    "                           on='Case_id', how='left')\n"
   ]
  },
  {
   "cell_type": "code",
   "execution_count": 85,
   "id": "1e8ba79f-153f-435b-b35b-bedd29d70f3c",
   "metadata": {},
   "outputs": [
    {
     "name": "stdout",
     "output_type": "stream",
     "text": [
      "   Case_id  juvenile_felony_count  juvenile_misdemeanor_count  \\\n",
      "0        0                      0                           0   \n",
      "1        1                      0                           0   \n",
      "2        2                      0                           0   \n",
      "3        3                      0                           0   \n",
      "4        4                      0                           1   \n",
      "\n",
      "   juvenile_other_offense_count  prior_offense_count  \\\n",
      "0                             0                    0   \n",
      "1                             0                    0   \n",
      "2                             0                    0   \n",
      "3                             1                    4   \n",
      "4                             0                    1   \n",
      "\n",
      "   days_between_screening_and_arrest  days_from_compas_to_current_offense  \\\n",
      "0                                 -1                                    1   \n",
      "1                                 -1                                   -1   \n",
      "2                                 -1                                    1   \n",
      "3                                 -1                                    1   \n",
      "4                                 -1                                    1   \n",
      "\n",
      "   is_recidivist  arrest_to_rec  is_violent_recidivist  ...  \\\n",
      "0              0              0                      0  ...   \n",
      "1             -1              0                      0  ...   \n",
      "2              1              0                      1  ...   \n",
      "3              1              0                      0  ...   \n",
      "4              0              0                      0  ...   \n",
      "\n",
      "   recidivism_offense_date_id  current_jail_entry_date_id  \\\n",
      "0                          -1                       41498   \n",
      "1                          -1                          -1   \n",
      "2                       41400                       41299   \n",
      "3                       41440                       41376   \n",
      "4                          -1                          -1   \n",
      "\n",
      "   current_jail_release_date_id  screening_date_id  recidivism_risk_score_id  \\\n",
      "0                         41499              41499                         1   \n",
      "1                            -1              42003                         2   \n",
      "2                         41395              41300                         3   \n",
      "3                         41377              41377                         4   \n",
      "4                            -1              41286                         5   \n",
      "\n",
      "   violence_risk_score_id  screening_date  current_jail_entry_date  \\\n",
      "0                       1      2013-08-14               2013-08-13   \n",
      "1                       9      2014-12-31                      NaN   \n",
      "2                       1      2013-01-27               2013-01-26   \n",
      "3                       3      2013-04-14               2013-04-13   \n",
      "4                       6      2013-01-13                      NaN   \n",
      "\n",
      "   current_jail_release_date  recidivism_offense_date  \n",
      "0                 2013-08-14                      NaN  \n",
      "1                        NaN                      NaN  \n",
      "2                 2013-05-02               2013-05-07  \n",
      "3                 2013-04-14               2013-06-16  \n",
      "4                        NaN                      NaN  \n",
      "\n",
      "[5 rows x 25 columns]\n"
     ]
    }
   ],
   "source": [
    "print(merged_cases.head())\n"
   ]
  },
  {
   "cell_type": "code",
   "execution_count": 87,
   "id": "5fa55592-7d8a-4754-a889-b7ffed01e4f6",
   "metadata": {},
   "outputs": [
    {
     "name": "stdout",
     "output_type": "stream",
     "text": [
      "   Case_id  juvenile_felony_count  juvenile_misdemeanor_count  \\\n",
      "0        0                      0                           0   \n",
      "1        1                      0                           0   \n",
      "2        2                      0                           0   \n",
      "3        3                      0                           0   \n",
      "4        4                      0                           1   \n",
      "\n",
      "   juvenile_other_offense_count  prior_offense_count  \\\n",
      "0                             0                    0   \n",
      "1                             0                    0   \n",
      "2                             0                    0   \n",
      "3                             1                    4   \n",
      "4                             0                    1   \n",
      "\n",
      "   days_between_screening_and_arrest  days_from_compas_to_current_offense  \\\n",
      "0                                 -1                                    1   \n",
      "1                                 -1                                   -1   \n",
      "2                                 -1                                    1   \n",
      "3                                 -1                                    1   \n",
      "4                                 -1                                    1   \n",
      "\n",
      "   is_recidivist  arrest_to_rec  is_violent_recidivist  ...  rec_charge_id  \\\n",
      "0              0              0                      0  ...              2   \n",
      "1             -1              0                      0  ...              2   \n",
      "2              1              0                      1  ...            119   \n",
      "3              1              0                      0  ...            118   \n",
      "4              0              0                      0  ...              2   \n",
      "\n",
      "   inmate_id  sentence_type_id  state_id  recidivism_risk_score_id  \\\n",
      "0          1                 1        11                         1   \n",
      "1          2                 2        11                         2   \n",
      "2          3                 2        11                         3   \n",
      "3          4                 2        11                         4   \n",
      "4          5                 2        11                         5   \n",
      "\n",
      "   violence_risk_score_id  screening_date current_jail_entry_date  \\\n",
      "0                       1      2013-08-14              2013-08-13   \n",
      "1                       9      2014-12-31                     NaN   \n",
      "2                       1      2013-01-27              2013-01-26   \n",
      "3                       3      2013-04-14              2013-04-13   \n",
      "4                       6      2013-01-13                     NaN   \n",
      "\n",
      "  current_jail_release_date recidivism_offense_date  \n",
      "0                2013-08-14                     NaN  \n",
      "1                       NaN                     NaN  \n",
      "2                2013-05-02              2013-05-07  \n",
      "3                2013-04-14              2013-06-16  \n",
      "4                       NaN                     NaN  \n",
      "\n",
      "[5 rows x 21 columns]\n"
     ]
    }
   ],
   "source": [
    "# Strip column names for both DataFrames\n",
    "cases.columns = cases.columns.str.strip()\n",
    "old_cases.columns = old_cases.columns.str.strip()\n",
    "\n",
    "# Merge the cases DataFrame with old_cases based on 'Case_id'\n",
    "merged_cases = cases.merge(old_cases[['Case_id', 'screening_date', 'current_jail_entry_date', \n",
    "                                      'current_jail_release_date', 'recidivism_offense_date']],\n",
    "                           on='Case_id', how='left')\n",
    "\n",
    "# Drop the date ID columns, keeping only the actual dates\n",
    "merged_cases = merged_cases.drop(['screening_date_id', 'current_jail_entry_date_id', \n",
    "                                  'current_jail_release_date_id', 'recidivism_offense_date_id'], axis=1)\n",
    "\n",
    "# Check the DataFrame to ensure changes\n",
    "print(merged_cases.head())\n"
   ]
  },
  {
   "cell_type": "code",
   "execution_count": 91,
   "id": "b04c7f52-8a0b-4404-9adc-9c13e119e5e6",
   "metadata": {},
   "outputs": [],
   "source": [
    "merged_cases.to_csv('dwh_csv/f_cases.csv', index = False)"
   ]
  },
  {
   "cell_type": "code",
   "execution_count": 95,
   "id": "ca65a596-83be-4f93-b91e-1545caeb20ee",
   "metadata": {},
   "outputs": [
    {
     "name": "stdout",
     "output_type": "stream",
     "text": [
      "   inmate_id          fullname  age  gender_id  race_id  age_group_id  \\\n",
      "0          1  miguel hernandez   77          1        1           5.0   \n",
      "1          2      michael ryan   39          1        2           2.0   \n",
      "2          3       kevon dixon   42          1        3           2.0   \n",
      "3          4          ed philo   33          1        3           1.0   \n",
      "4          5       marcu brown   31          1        3           1.0   \n",
      "\n",
      "         dob  \n",
      "0 1947-04-18  \n",
      "1 1985-02-06  \n",
      "2 1982-01-22  \n",
      "3 1991-05-14  \n",
      "4 1993-01-21  \n"
     ]
    }
   ],
   "source": [
    "# Strip column names for both DataFrames (if needed)\n",
    "inmates.columns = inmates.columns.str.strip()\n",
    "dates.columns = dates.columns.str.strip()\n",
    "\n",
    "# Merge inmates with dates based on 'dob_id' and 'date_id'\n",
    "inmates_merged = inmates.merge(dates[['date_id', 'day', 'month', 'year']], \n",
    "                               left_on='dob_id', right_on='date_id', how='left')\n",
    "\n",
    "# Create a 'dob' (Date of Birth) column by concatenating 'year', 'month', 'day'\n",
    "inmates_merged['dob'] = pd.to_datetime(inmates_merged[['year', 'month', 'day']])\n",
    "\n",
    "# Drop unnecessary columns: 'dob_id', 'date_id', 'day', 'month', 'year'\n",
    "inmates_merged = inmates_merged.drop(['dob_id', 'date_id', 'day', 'month', 'year'], axis=1)\n",
    "\n",
    "# Check the updated inmates DataFrame\n",
    "print(inmates_merged.head())\n"
   ]
  },
  {
   "cell_type": "code",
   "execution_count": 97,
   "id": "a1816e7f-740b-4c62-bf66-f308748763ff",
   "metadata": {},
   "outputs": [],
   "source": [
    "inmates_merged.to_csv('dwh_csv/d_inmate.csv', index = False)"
   ]
  },
  {
   "cell_type": "code",
   "execution_count": 102,
   "id": "5cd79679-4b7a-4b9b-afb9-aceb7848a2ae",
   "metadata": {},
   "outputs": [
    {
     "name": "stdout",
     "output_type": "stream",
     "text": [
      "   population  unemployment_rate  participation_rate  poverty_nb  \\\n",
      "0         NaN                6.7                57.0         NaN   \n",
      "1         NaN                7.2                58.2         NaN   \n",
      "2         NaN                6.4                59.0         NaN   \n",
      "3         NaN                7.2                59.5         NaN   \n",
      "4         NaN                8.8                59.4         NaN   \n",
      "\n",
      "   poverty_percentage  prisoners_count  violent_crimes_total  \\\n",
      "0                 NaN              NaN                   NaN   \n",
      "1                 NaN              NaN                   NaN   \n",
      "2                 NaN              NaN                   NaN   \n",
      "3                 NaN              NaN                   NaN   \n",
      "4                 NaN              NaN                   NaN   \n",
      "\n",
      "   murder_manslaughter  robbery  agg_assault  property_crime_total  burglary  \\\n",
      "0                  NaN      NaN          NaN                   NaN       NaN   \n",
      "1                  NaN      NaN          NaN                   NaN       NaN   \n",
      "2                  NaN      NaN          NaN                   NaN       NaN   \n",
      "3                  NaN      NaN          NaN                   NaN       NaN   \n",
      "4                  NaN      NaN          NaN                   NaN       NaN   \n",
      "\n",
      "   larceny  vehicle_theft  rape  state_id  row_id       date  \n",
      "0      NaN            NaN   NaN         2       1 1976-01-01  \n",
      "1      NaN            NaN   NaN         2       2 1977-01-01  \n",
      "2      NaN            NaN   NaN         2       3 1978-01-01  \n",
      "3      NaN            NaN   NaN         2       4 1979-01-01  \n",
      "4      NaN            NaN   NaN         2       5 1980-01-01  \n"
     ]
    }
   ],
   "source": [
    "# Strip column names for both DataFrames (if needed)\n",
    "general.columns = general.columns.str.strip()\n",
    "dates.columns = dates.columns.str.strip()\n",
    "\n",
    "# Merge general with dates based on 'date_id'\n",
    "general_merged = general.merge(dates[['date_id', 'day', 'month', 'year']], \n",
    "                               left_on='date_id', right_on='date_id', how='left')\n",
    "\n",
    "# Create a 'date' column by concatenating 'year', 'month', 'day'\n",
    "general_merged['date'] = pd.to_datetime(general_merged[['year', 'month', 'day']])\n",
    "\n",
    "# Drop unnecessary columns: 'date_id', 'day', 'month', 'year'\n",
    "general_merged = general_merged.drop(['date_id', 'day', 'month', 'year'], axis=1)\n",
    "\n",
    "# Check the updated general DataFrame\n",
    "print(general_merged.head())\n"
   ]
  },
  {
   "cell_type": "code",
   "execution_count": 106,
   "id": "0390e9c8-02a6-4ff7-a1e8-171b21ee12db",
   "metadata": {},
   "outputs": [],
   "source": [
    "general_merged.to_csv('dwh_csv/f_general_metrics.csv', index=False)"
   ]
  },
  {
   "cell_type": "code",
   "execution_count": null,
   "id": "9f0f4ee9-560f-47dc-a87f-f48edde06572",
   "metadata": {},
   "outputs": [],
   "source": []
  }
 ],
 "metadata": {
  "kernelspec": {
   "display_name": "Python 3 (ipykernel)",
   "language": "python",
   "name": "python3"
  },
  "language_info": {
   "codemirror_mode": {
    "name": "ipython",
    "version": 3
   },
   "file_extension": ".py",
   "mimetype": "text/x-python",
   "name": "python",
   "nbconvert_exporter": "python",
   "pygments_lexer": "ipython3",
   "version": "3.11.7"
  }
 },
 "nbformat": 4,
 "nbformat_minor": 5
}

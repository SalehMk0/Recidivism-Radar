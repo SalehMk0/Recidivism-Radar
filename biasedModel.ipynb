{
 "cells": [
  {
   "cell_type": "code",
   "execution_count": 2,
   "id": "dde1a912-5ba1-4cbf-9e6d-c725261aa145",
   "metadata": {},
   "outputs": [],
   "source": [
    "# Import necessary libraries\n",
    "from sklearn.ensemble import RandomForestClassifier\n",
    "from sklearn.metrics import accuracy_score, mean_squared_error, f1_score\n",
    "from sklearn.model_selection import train_test_split\n",
    "import pandas as pd\n",
    "import numpy as np\n",
    "import mlflow\n",
    "import mlflow.sklearn\n",
    "\n",
    "# Set MLflow tracking URI\n",
    "mlflow.set_tracking_uri(\"mlruns\")\n"
   ]
  },
  {
   "cell_type": "code",
   "execution_count": 3,
   "id": "b53aa98b-5d76-419e-a530-4662cf53d310",
   "metadata": {},
   "outputs": [],
   "source": [
    "# Load dataset\n",
    "df = pd.read_csv('partitions/encoded_data.csv')\n",
    "\n",
    "# Define features and target\n",
    "x = df[['age', 'sex', 'race', 'total_juvenile_offenses', 'detention_period', 'prior_offense_count', 'current_charge_degree']]\n",
    "y = df['is_recidivist']\n",
    "\n",
    "# Split the data\n",
    "x_train, x_test, y_train, y_test = train_test_split(x, y, test_size=0.2, random_state=28)\n",
    "\n",
    "# Initialize and train the model\n",
    "model = RandomForestClassifier(n_estimators=100, max_depth=10, random_state=28)\n",
    "model.fit(x_train, y_train)\n",
    "\n",
    "# Make predictions\n",
    "y_pred = model.predict(x_test)\n"
   ]
  },
  {
   "cell_type": "code",
   "execution_count": 4,
   "id": "4f0d47cf-12d7-418c-b1ea-ca35e1797b84",
   "metadata": {},
   "outputs": [
    {
     "name": "stdout",
     "output_type": "stream",
     "text": [
      "Model Accuracy:  0.7283053157655611\n",
      "RMSE:  0.526447292211292\n",
      "F1 Score:  0.7045926358688335\n"
     ]
    }
   ],
   "source": [
    "# Evaluate model performance\n",
    "accuracy = accuracy_score(y_test, y_pred)\n",
    "rmse = np.sqrt(mean_squared_error(y_test, y_pred))\n",
    "f1 = f1_score(y_test, y_pred, average='weighted')\n",
    "\n",
    "print(\"Model Accuracy: \", accuracy)\n",
    "print(\"RMSE: \", rmse)\n",
    "print(\"F1 Score: \", f1)\n"
   ]
  },
  {
   "cell_type": "code",
   "execution_count": 5,
   "id": "5a7883ea-d6ff-45de-b54b-c411fcacd056",
   "metadata": {},
   "outputs": [
    {
     "name": "stdout",
     "output_type": "stream",
     "text": [
      "Prediction (1 means recidivist, 0 means not recidivist): 1\n"
     ]
    }
   ],
   "source": [
    "def predict_recidivism(input_data):\n",
    "    \"\"\"\n",
    "    Predicts whether an individual is a recidivist based on input features.\n",
    "    \n",
    "    Parameters:\n",
    "    - input_data (dict): Dictionary containing feature values.\n",
    "    \n",
    "    Returns:\n",
    "    - prediction (int): 0 or 1, indicating whether the individual is a recidivist or not.\n",
    "    \"\"\"\n",
    "    # Convert input data to a DataFrame\n",
    "    input_df = pd.DataFrame([input_data])\n",
    "    \n",
    "    # Ensure the input DataFrame has the same feature columns as the training data\n",
    "    input_df = input_df[['age', 'sex', 'race', 'total_juvenile_offenses', 'detention_period', 'prior_offense_count', 'current_charge_degree']]\n",
    "    \n",
    "    # Make prediction\n",
    "    prediction = model.predict(input_df)\n",
    "    \n",
    "    return prediction[0]\n",
    "\n",
    "# Example usage\n",
    "input_data = {\n",
    "    'age': 35,\n",
    "    'sex': 1, \n",
    "    'race': 0,  \n",
    "    'total_juvenile_offenses': 5,\n",
    "    'detention_period': 120,\n",
    "    'prior_offense_count': 1,\n",
    "    'current_charge_degree': 2\n",
    "}\n",
    "\n",
    "prediction = predict_recidivism(input_data)\n",
    "print(\"Prediction (1 means recidivist, 0 means not recidivist):\", prediction)\n"
   ]
  },
  {
   "cell_type": "code",
   "execution_count": 6,
   "id": "22f9a475-8fa4-4e09-a39d-43da82271c46",
   "metadata": {},
   "outputs": [
    {
     "name": "stderr",
     "output_type": "stream",
     "text": [
      "C:\\Users\\user\\anaconda3\\Lib\\site-packages\\mlflow\\models\\utils.py:523: FutureWarning: Since MLflow 2.16.0, we no longer convert dictionary input example to pandas Dataframe, and directly save it as a json object. If the model expects a pandas DataFrame input instead, please pass the pandas DataFrame as input example directly.\n",
      "  example = _Example(input_example)\n",
      "C:\\Users\\user\\anaconda3\\Lib\\site-packages\\mlflow\\types\\utils.py:407: UserWarning: Hint: Inferred schema contains integer column(s). Integer columns in Python cannot represent missing values. If your input data contains missing values at inference time, it will be encoded as floats and will cause a schema enforcement error. The best way to avoid this problem is to infer the model schema based on a realistic data sample (training dataset) that includes missing values. Alternatively, you can declare integer columns as doubles (float64) whenever these columns may have missing values. See `Handling Integers With Missing Values <https://www.mlflow.org/docs/latest/models.html#handling-integers-with-missing-values>`_ for more details.\n",
      "  warnings.warn(\n",
      "C:\\Users\\user\\anaconda3\\Lib\\site-packages\\mlflow\\types\\utils.py:407: UserWarning: Hint: Inferred schema contains integer column(s). Integer columns in Python cannot represent missing values. If your input data contains missing values at inference time, it will be encoded as floats and will cause a schema enforcement error. The best way to avoid this problem is to infer the model schema based on a realistic data sample (training dataset) that includes missing values. Alternatively, you can declare integer columns as doubles (float64) whenever these columns may have missing values. See `Handling Integers With Missing Values <https://www.mlflow.org/docs/latest/models.html#handling-integers-with-missing-values>`_ for more details.\n",
      "  warnings.warn(\n"
     ]
    },
    {
     "data": {
      "application/vnd.jupyter.widget-view+json": {
       "model_id": "fbc62eb17bae454a9e8c5868b322ad61",
       "version_major": 2,
       "version_minor": 0
      },
      "text/plain": [
       "Downloading artifacts:   0%|          | 0/7 [00:00<?, ?it/s]"
      ]
     },
     "metadata": {},
     "output_type": "display_data"
    },
    {
     "name": "stderr",
     "output_type": "stream",
     "text": [
      "Registered model 'Reci' already exists. Creating a new version of this model...\n",
      "Created version '2' of model 'Reci'.\n"
     ]
    }
   ],
   "source": [
    "def mlFlowVersioning(model, model_name, input_example):\n",
    "    with mlflow.start_run() as run:\n",
    "        mlflow.sklearn.log_model(model, \"model\", input_example=input_example)\n",
    "        model_uri = f\"runs:/{run.info.run_id}/model\"\n",
    "        mlflow.register_model(model_uri, model_name)\n",
    "\n",
    "# Example input for logging\n",
    "input_example = {\n",
    "    'age': 30,\n",
    "    'sex': 0,\n",
    "    'race': 1,\n",
    "    'total_juvenile_offenses': 2,\n",
    "    'detention_period': 5,\n",
    "    'prior_offense_count': 0,\n",
    "    'current_charge_degree': 1\n",
    "}\n",
    "\n",
    "mlFlowVersioning(model, \"Reci\", input_example)\n"
   ]
  },
  {
   "cell_type": "code",
   "execution_count": null,
   "id": "029e6311-b4da-459a-8d41-d0334709cd47",
   "metadata": {},
   "outputs": [],
   "source": []
  }
 ],
 "metadata": {
  "kernelspec": {
   "display_name": "Python 3 (ipykernel)",
   "language": "python",
   "name": "python3"
  },
  "language_info": {
   "codemirror_mode": {
    "name": "ipython",
    "version": 3
   },
   "file_extension": ".py",
   "mimetype": "text/x-python",
   "name": "python",
   "nbconvert_exporter": "python",
   "pygments_lexer": "ipython3",
   "version": "3.11.7"
  }
 },
 "nbformat": 4,
 "nbformat_minor": 5
}

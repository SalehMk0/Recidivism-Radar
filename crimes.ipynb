{
 "cells": [
  {
   "cell_type": "code",
   "execution_count": 7,
   "id": "d03cfa5d-5d44-482d-af95-fe54db7d281d",
   "metadata": {},
   "outputs": [],
   "source": [
    "import pandas as pd"
   ]
  },
  {
   "cell_type": "code",
   "execution_count": 9,
   "id": "5481c75a-1fa3-4ae0-8a88-f479a02a0031",
   "metadata": {},
   "outputs": [],
   "source": [
    "df = pd.read_csv('current_data/crime_and_incarceration_by_state.csv')"
   ]
  },
  {
   "cell_type": "code",
   "execution_count": 11,
   "id": "121ee0d3-1903-4134-8f5d-c24616cef313",
   "metadata": {},
   "outputs": [],
   "source": [
    "df = df.rename(columns={'year': 'date'})"
   ]
  },
  {
   "cell_type": "code",
   "execution_count": 13,
   "id": "496e4048-8575-4797-85b9-88220e0f0329",
   "metadata": {},
   "outputs": [],
   "source": [
    "df['date'] = pd.to_datetime(df['date'], format='%Y')  # Convert to datetime with just the year\n",
    "df['date'] = df['date'].dt.strftime('01-01-%Y')"
   ]
  },
  {
   "cell_type": "code",
   "execution_count": 15,
   "id": "7a0938ae-dadf-41e1-9449-2de32b460acf",
   "metadata": {},
   "outputs": [
    {
     "data": {
      "text/plain": [
       "0      01-01-2001\n",
       "1      01-01-2001\n",
       "2      01-01-2001\n",
       "3      01-01-2001\n",
       "4      01-01-2001\n",
       "          ...    \n",
       "811    01-01-2016\n",
       "812    01-01-2016\n",
       "813    01-01-2016\n",
       "814    01-01-2016\n",
       "815    01-01-2016\n",
       "Name: date, Length: 816, dtype: object"
      ]
     },
     "execution_count": 15,
     "metadata": {},
     "output_type": "execute_result"
    }
   ],
   "source": [
    "df['date']"
   ]
  },
  {
   "cell_type": "code",
   "execution_count": 28,
   "id": "62d02ac9-f46f-42c6-a658-52ff27cffac2",
   "metadata": {},
   "outputs": [],
   "source": [
    "df['date'] = pd.to_datetime(df['date'], format='%d-%m-%Y')"
   ]
  },
  {
   "cell_type": "code",
   "execution_count": 30,
   "id": "fade393c-159c-4588-a817-5f2b5b788bd1",
   "metadata": {},
   "outputs": [
    {
     "data": {
      "text/plain": [
       "0     2001-01-01\n",
       "1     2001-01-01\n",
       "2     2001-01-01\n",
       "3     2001-01-01\n",
       "4     2001-01-01\n",
       "         ...    \n",
       "811   2016-01-01\n",
       "812   2016-01-01\n",
       "813   2016-01-01\n",
       "814   2016-01-01\n",
       "815   2016-01-01\n",
       "Name: date, Length: 816, dtype: datetime64[ns]"
      ]
     },
     "execution_count": 30,
     "metadata": {},
     "output_type": "execute_result"
    }
   ],
   "source": [
    "df['date']"
   ]
  },
  {
   "cell_type": "code",
   "execution_count": 32,
   "id": "a91ac8d0-42d5-4246-9377-3774b839bbed",
   "metadata": {},
   "outputs": [],
   "source": [
    "df.to_csv('current_data/crime_and_incarceration_by_state.csv', index = False)"
   ]
  },
  {
   "cell_type": "code",
   "execution_count": 17,
   "id": "4712b7d9-d003-49e1-9eec-df698adf6349",
   "metadata": {},
   "outputs": [],
   "source": [
    "df['rape_revised'].fillna(0,inplace=True)"
   ]
  },
  {
   "cell_type": "code",
   "execution_count": 19,
   "id": "93a355ce-693a-4238-a300-818a9c0996b3",
   "metadata": {},
   "outputs": [
    {
     "data": {
      "text/plain": [
       "0"
      ]
     },
     "execution_count": 19,
     "metadata": {},
     "output_type": "execute_result"
    }
   ],
   "source": [
    "df['rape_revised'].isna().sum()"
   ]
  },
  {
   "cell_type": "code",
   "execution_count": 27,
   "id": "7729742c-8f10-4845-9915-1454c49a5e03",
   "metadata": {},
   "outputs": [
    {
     "data": {
      "text/plain": [
       "67"
      ]
     },
     "execution_count": 27,
     "metadata": {},
     "output_type": "execute_result"
    }
   ],
   "source": [
    "df['rape_legacy'].isna().sum()"
   ]
  },
  {
   "cell_type": "code",
   "execution_count": 29,
   "id": "05afecb3-c418-4ddf-b747-43a40bbf418e",
   "metadata": {},
   "outputs": [],
   "source": [
    "df['rape_legacy'].fillna(0,inplace=True)"
   ]
  },
  {
   "cell_type": "code",
   "execution_count": 31,
   "id": "2ae13b32-fa3d-427b-9f9a-93cabce00e0d",
   "metadata": {},
   "outputs": [
    {
     "data": {
      "text/plain": [
       "0"
      ]
     },
     "execution_count": 31,
     "metadata": {},
     "output_type": "execute_result"
    }
   ],
   "source": [
    "df['rape_legacy'].isna().sum()"
   ]
  },
  {
   "cell_type": "code",
   "execution_count": 33,
   "id": "d2e3b141-c581-4c72-b6b0-c1d629052468",
   "metadata": {},
   "outputs": [],
   "source": [
    "df['rape'] = df['rape_legacy'] + df['rape_revised']"
   ]
  },
  {
   "cell_type": "code",
   "execution_count": 37,
   "id": "a6be7bbc-3c2f-4cc8-a432-63bfd7911f0d",
   "metadata": {},
   "outputs": [
    {
     "data": {
      "text/plain": [
       "0         0\n",
       "1      1369\n",
       "2       501\n",
       "3      1518\n",
       "4       892\n",
       "       ... \n",
       "811    2830\n",
       "812    3133\n",
       "813     684\n",
       "814    2005\n",
       "815     206\n",
       "Name: rape, Length: 816, dtype: int32"
      ]
     },
     "execution_count": 37,
     "metadata": {},
     "output_type": "execute_result"
    }
   ],
   "source": [
    "df['rape'].astype(int)"
   ]
  },
  {
   "cell_type": "code",
   "execution_count": 39,
   "id": "408bf03a-ce23-4be2-91cb-1f2f4e754981",
   "metadata": {},
   "outputs": [],
   "source": [
    "df = df.drop('rape_revised', axis=1)"
   ]
  },
  {
   "cell_type": "code",
   "execution_count": 41,
   "id": "4d2d231f-39b0-41c6-b65a-9b2d9c61cc2d",
   "metadata": {},
   "outputs": [],
   "source": [
    "df=df.drop('rape_legacy', axis=1)"
   ]
  },
  {
   "cell_type": "code",
   "execution_count": 43,
   "id": "288cd529-a550-43c7-813c-60362bbd984c",
   "metadata": {},
   "outputs": [
    {
     "data": {
      "text/html": [
       "<div>\n",
       "<style scoped>\n",
       "    .dataframe tbody tr th:only-of-type {\n",
       "        vertical-align: middle;\n",
       "    }\n",
       "\n",
       "    .dataframe tbody tr th {\n",
       "        vertical-align: top;\n",
       "    }\n",
       "\n",
       "    .dataframe thead th {\n",
       "        text-align: right;\n",
       "    }\n",
       "</style>\n",
       "<table border=\"1\" class=\"dataframe\">\n",
       "  <thead>\n",
       "    <tr style=\"text-align: right;\">\n",
       "      <th></th>\n",
       "      <th>jurisdiction</th>\n",
       "      <th>includes_jails</th>\n",
       "      <th>year</th>\n",
       "      <th>prisoner_count</th>\n",
       "      <th>crime_reporting_change</th>\n",
       "      <th>crimes_estimated</th>\n",
       "      <th>state_population</th>\n",
       "      <th>violent_crime_total</th>\n",
       "      <th>murder_manslaughter</th>\n",
       "      <th>robbery</th>\n",
       "      <th>agg_assault</th>\n",
       "      <th>property_crime_total</th>\n",
       "      <th>burglary</th>\n",
       "      <th>larceny</th>\n",
       "      <th>vehicle_theft</th>\n",
       "      <th>rape</th>\n",
       "    </tr>\n",
       "  </thead>\n",
       "  <tbody>\n",
       "    <tr>\n",
       "      <th>0</th>\n",
       "      <td>FEDERAL</td>\n",
       "      <td>False</td>\n",
       "      <td>2001</td>\n",
       "      <td>149852</td>\n",
       "      <td>NaN</td>\n",
       "      <td>NaN</td>\n",
       "      <td>NaN</td>\n",
       "      <td>NaN</td>\n",
       "      <td>NaN</td>\n",
       "      <td>NaN</td>\n",
       "      <td>NaN</td>\n",
       "      <td>NaN</td>\n",
       "      <td>NaN</td>\n",
       "      <td>NaN</td>\n",
       "      <td>NaN</td>\n",
       "      <td>0.0</td>\n",
       "    </tr>\n",
       "    <tr>\n",
       "      <th>1</th>\n",
       "      <td>ALABAMA</td>\n",
       "      <td>False</td>\n",
       "      <td>2001</td>\n",
       "      <td>24741</td>\n",
       "      <td>False</td>\n",
       "      <td>False</td>\n",
       "      <td>4468912.0</td>\n",
       "      <td>19582.0</td>\n",
       "      <td>379.0</td>\n",
       "      <td>5584.0</td>\n",
       "      <td>12250.0</td>\n",
       "      <td>173253.0</td>\n",
       "      <td>40642.0</td>\n",
       "      <td>119992.0</td>\n",
       "      <td>12619.0</td>\n",
       "      <td>1369.0</td>\n",
       "    </tr>\n",
       "    <tr>\n",
       "      <th>2</th>\n",
       "      <td>ALASKA</td>\n",
       "      <td>True</td>\n",
       "      <td>2001</td>\n",
       "      <td>4570</td>\n",
       "      <td>False</td>\n",
       "      <td>False</td>\n",
       "      <td>633630.0</td>\n",
       "      <td>3735.0</td>\n",
       "      <td>39.0</td>\n",
       "      <td>514.0</td>\n",
       "      <td>2681.0</td>\n",
       "      <td>23160.0</td>\n",
       "      <td>3847.0</td>\n",
       "      <td>16695.0</td>\n",
       "      <td>2618.0</td>\n",
       "      <td>501.0</td>\n",
       "    </tr>\n",
       "    <tr>\n",
       "      <th>3</th>\n",
       "      <td>ARIZONA</td>\n",
       "      <td>False</td>\n",
       "      <td>2001</td>\n",
       "      <td>27710</td>\n",
       "      <td>False</td>\n",
       "      <td>False</td>\n",
       "      <td>5306966.0</td>\n",
       "      <td>28675.0</td>\n",
       "      <td>400.0</td>\n",
       "      <td>8868.0</td>\n",
       "      <td>17889.0</td>\n",
       "      <td>293874.0</td>\n",
       "      <td>54821.0</td>\n",
       "      <td>186850.0</td>\n",
       "      <td>52203.0</td>\n",
       "      <td>1518.0</td>\n",
       "    </tr>\n",
       "    <tr>\n",
       "      <th>4</th>\n",
       "      <td>ARKANSAS</td>\n",
       "      <td>False</td>\n",
       "      <td>2001</td>\n",
       "      <td>11489</td>\n",
       "      <td>False</td>\n",
       "      <td>False</td>\n",
       "      <td>2694698.0</td>\n",
       "      <td>12190.0</td>\n",
       "      <td>148.0</td>\n",
       "      <td>2181.0</td>\n",
       "      <td>8969.0</td>\n",
       "      <td>99106.0</td>\n",
       "      <td>22196.0</td>\n",
       "      <td>69590.0</td>\n",
       "      <td>7320.0</td>\n",
       "      <td>892.0</td>\n",
       "    </tr>\n",
       "    <tr>\n",
       "      <th>...</th>\n",
       "      <td>...</td>\n",
       "      <td>...</td>\n",
       "      <td>...</td>\n",
       "      <td>...</td>\n",
       "      <td>...</td>\n",
       "      <td>...</td>\n",
       "      <td>...</td>\n",
       "      <td>...</td>\n",
       "      <td>...</td>\n",
       "      <td>...</td>\n",
       "      <td>...</td>\n",
       "      <td>...</td>\n",
       "      <td>...</td>\n",
       "      <td>...</td>\n",
       "      <td>...</td>\n",
       "      <td>...</td>\n",
       "    </tr>\n",
       "    <tr>\n",
       "      <th>811</th>\n",
       "      <td>VIRGINIA</td>\n",
       "      <td>False</td>\n",
       "      <td>2016</td>\n",
       "      <td>29882</td>\n",
       "      <td>False</td>\n",
       "      <td>False</td>\n",
       "      <td>8414380.0</td>\n",
       "      <td>18495.0</td>\n",
       "      <td>482.0</td>\n",
       "      <td>4826.0</td>\n",
       "      <td>10357.0</td>\n",
       "      <td>157292.0</td>\n",
       "      <td>20159.0</td>\n",
       "      <td>127285.0</td>\n",
       "      <td>9848.0</td>\n",
       "      <td>2830.0</td>\n",
       "    </tr>\n",
       "    <tr>\n",
       "      <th>812</th>\n",
       "      <td>WASHINGTON</td>\n",
       "      <td>False</td>\n",
       "      <td>2016</td>\n",
       "      <td>17228</td>\n",
       "      <td>False</td>\n",
       "      <td>False</td>\n",
       "      <td>7280934.0</td>\n",
       "      <td>22101.0</td>\n",
       "      <td>195.0</td>\n",
       "      <td>5649.0</td>\n",
       "      <td>13124.0</td>\n",
       "      <td>254994.0</td>\n",
       "      <td>49249.0</td>\n",
       "      <td>173423.0</td>\n",
       "      <td>32322.0</td>\n",
       "      <td>3133.0</td>\n",
       "    </tr>\n",
       "    <tr>\n",
       "      <th>813</th>\n",
       "      <td>WEST VIRGINIA</td>\n",
       "      <td>False</td>\n",
       "      <td>2016</td>\n",
       "      <td>5899</td>\n",
       "      <td>False</td>\n",
       "      <td>False</td>\n",
       "      <td>1828637.0</td>\n",
       "      <td>6633.0</td>\n",
       "      <td>85.0</td>\n",
       "      <td>720.0</td>\n",
       "      <td>5144.0</td>\n",
       "      <td>37282.0</td>\n",
       "      <td>9127.0</td>\n",
       "      <td>25657.0</td>\n",
       "      <td>2498.0</td>\n",
       "      <td>684.0</td>\n",
       "    </tr>\n",
       "    <tr>\n",
       "      <th>814</th>\n",
       "      <td>WISCONSIN</td>\n",
       "      <td>False</td>\n",
       "      <td>2016</td>\n",
       "      <td>23163</td>\n",
       "      <td>False</td>\n",
       "      <td>False</td>\n",
       "      <td>5772917.0</td>\n",
       "      <td>17716.0</td>\n",
       "      <td>232.0</td>\n",
       "      <td>4707.0</td>\n",
       "      <td>10772.0</td>\n",
       "      <td>111911.0</td>\n",
       "      <td>19498.0</td>\n",
       "      <td>82455.0</td>\n",
       "      <td>9958.0</td>\n",
       "      <td>2005.0</td>\n",
       "    </tr>\n",
       "    <tr>\n",
       "      <th>815</th>\n",
       "      <td>WYOMING</td>\n",
       "      <td>False</td>\n",
       "      <td>2016</td>\n",
       "      <td>2352</td>\n",
       "      <td>False</td>\n",
       "      <td>False</td>\n",
       "      <td>584910.0</td>\n",
       "      <td>1431.0</td>\n",
       "      <td>20.0</td>\n",
       "      <td>59.0</td>\n",
       "      <td>1146.0</td>\n",
       "      <td>11460.0</td>\n",
       "      <td>1771.0</td>\n",
       "      <td>8889.0</td>\n",
       "      <td>800.0</td>\n",
       "      <td>206.0</td>\n",
       "    </tr>\n",
       "  </tbody>\n",
       "</table>\n",
       "<p>816 rows × 16 columns</p>\n",
       "</div>"
      ],
      "text/plain": [
       "      jurisdiction  includes_jails  year  prisoner_count  \\\n",
       "0          FEDERAL           False  2001          149852   \n",
       "1          ALABAMA           False  2001           24741   \n",
       "2           ALASKA            True  2001            4570   \n",
       "3          ARIZONA           False  2001           27710   \n",
       "4         ARKANSAS           False  2001           11489   \n",
       "..             ...             ...   ...             ...   \n",
       "811       VIRGINIA           False  2016           29882   \n",
       "812     WASHINGTON           False  2016           17228   \n",
       "813  WEST VIRGINIA           False  2016            5899   \n",
       "814      WISCONSIN           False  2016           23163   \n",
       "815        WYOMING           False  2016            2352   \n",
       "\n",
       "    crime_reporting_change crimes_estimated  state_population  \\\n",
       "0                      NaN              NaN               NaN   \n",
       "1                    False            False         4468912.0   \n",
       "2                    False            False          633630.0   \n",
       "3                    False            False         5306966.0   \n",
       "4                    False            False         2694698.0   \n",
       "..                     ...              ...               ...   \n",
       "811                  False            False         8414380.0   \n",
       "812                  False            False         7280934.0   \n",
       "813                  False            False         1828637.0   \n",
       "814                  False            False         5772917.0   \n",
       "815                  False            False          584910.0   \n",
       "\n",
       "     violent_crime_total  murder_manslaughter  robbery  agg_assault  \\\n",
       "0                    NaN                  NaN      NaN          NaN   \n",
       "1                19582.0                379.0   5584.0      12250.0   \n",
       "2                 3735.0                 39.0    514.0       2681.0   \n",
       "3                28675.0                400.0   8868.0      17889.0   \n",
       "4                12190.0                148.0   2181.0       8969.0   \n",
       "..                   ...                  ...      ...          ...   \n",
       "811              18495.0                482.0   4826.0      10357.0   \n",
       "812              22101.0                195.0   5649.0      13124.0   \n",
       "813               6633.0                 85.0    720.0       5144.0   \n",
       "814              17716.0                232.0   4707.0      10772.0   \n",
       "815               1431.0                 20.0     59.0       1146.0   \n",
       "\n",
       "     property_crime_total  burglary   larceny  vehicle_theft    rape  \n",
       "0                     NaN       NaN       NaN            NaN     0.0  \n",
       "1                173253.0   40642.0  119992.0        12619.0  1369.0  \n",
       "2                 23160.0    3847.0   16695.0         2618.0   501.0  \n",
       "3                293874.0   54821.0  186850.0        52203.0  1518.0  \n",
       "4                 99106.0   22196.0   69590.0         7320.0   892.0  \n",
       "..                    ...       ...       ...            ...     ...  \n",
       "811              157292.0   20159.0  127285.0         9848.0  2830.0  \n",
       "812              254994.0   49249.0  173423.0        32322.0  3133.0  \n",
       "813               37282.0    9127.0   25657.0         2498.0   684.0  \n",
       "814              111911.0   19498.0   82455.0         9958.0  2005.0  \n",
       "815               11460.0    1771.0    8889.0          800.0   206.0  \n",
       "\n",
       "[816 rows x 16 columns]"
      ]
     },
     "execution_count": 43,
     "metadata": {},
     "output_type": "execute_result"
    }
   ],
   "source": [
    "df"
   ]
  },
  {
   "cell_type": "code",
   "execution_count": 45,
   "id": "13a05a2c-bfce-4316-a202-1ea8565a182e",
   "metadata": {},
   "outputs": [
    {
     "data": {
      "text/plain": [
       "jurisdiction               object\n",
       "includes_jails               bool\n",
       "year                        int64\n",
       "prisoner_count              int64\n",
       "crime_reporting_change     object\n",
       "crimes_estimated           object\n",
       "state_population          float64\n",
       "violent_crime_total       float64\n",
       "murder_manslaughter       float64\n",
       "robbery                   float64\n",
       "agg_assault               float64\n",
       "property_crime_total      float64\n",
       "burglary                  float64\n",
       "larceny                   float64\n",
       "vehicle_theft             float64\n",
       "rape                      float64\n",
       "dtype: object"
      ]
     },
     "execution_count": 45,
     "metadata": {},
     "output_type": "execute_result"
    }
   ],
   "source": [
    "df.dtypes"
   ]
  },
  {
   "cell_type": "code",
   "execution_count": 49,
   "id": "322e8cf4-437e-49a9-baa6-21e4493f39e2",
   "metadata": {},
   "outputs": [
    {
     "data": {
      "text/plain": [
       "51"
      ]
     },
     "execution_count": 49,
     "metadata": {},
     "output_type": "execute_result"
    }
   ],
   "source": [
    "df['jurisdiction'].nunique()"
   ]
  },
  {
   "cell_type": "code",
   "execution_count": 58,
   "id": "2dbd2464-55d1-4586-9928-f90277c5080c",
   "metadata": {},
   "outputs": [],
   "source": [
    "df.rename(columns={'jurisdiction': 'states'}, inplace=True)"
   ]
  },
  {
   "cell_type": "code",
   "execution_count": 60,
   "id": "63d7fb3b-d02d-4e92-8777-d2e2f125c5df",
   "metadata": {},
   "outputs": [
    {
     "data": {
      "text/html": [
       "<div>\n",
       "<style scoped>\n",
       "    .dataframe tbody tr th:only-of-type {\n",
       "        vertical-align: middle;\n",
       "    }\n",
       "\n",
       "    .dataframe tbody tr th {\n",
       "        vertical-align: top;\n",
       "    }\n",
       "\n",
       "    .dataframe thead th {\n",
       "        text-align: right;\n",
       "    }\n",
       "</style>\n",
       "<table border=\"1\" class=\"dataframe\">\n",
       "  <thead>\n",
       "    <tr style=\"text-align: right;\">\n",
       "      <th></th>\n",
       "      <th>states</th>\n",
       "      <th>includes_jails</th>\n",
       "      <th>year</th>\n",
       "      <th>prisoner_count</th>\n",
       "      <th>crime_reporting_change</th>\n",
       "      <th>crimes_estimated</th>\n",
       "      <th>state_population</th>\n",
       "      <th>violent_crime_total</th>\n",
       "      <th>murder_manslaughter</th>\n",
       "      <th>robbery</th>\n",
       "      <th>agg_assault</th>\n",
       "      <th>property_crime_total</th>\n",
       "      <th>burglary</th>\n",
       "      <th>larceny</th>\n",
       "      <th>vehicle_theft</th>\n",
       "      <th>rape</th>\n",
       "    </tr>\n",
       "  </thead>\n",
       "  <tbody>\n",
       "    <tr>\n",
       "      <th>0</th>\n",
       "      <td>FEDERAL</td>\n",
       "      <td>False</td>\n",
       "      <td>2001</td>\n",
       "      <td>149852</td>\n",
       "      <td>NaN</td>\n",
       "      <td>NaN</td>\n",
       "      <td>NaN</td>\n",
       "      <td>NaN</td>\n",
       "      <td>NaN</td>\n",
       "      <td>NaN</td>\n",
       "      <td>NaN</td>\n",
       "      <td>NaN</td>\n",
       "      <td>NaN</td>\n",
       "      <td>NaN</td>\n",
       "      <td>NaN</td>\n",
       "      <td>0.0</td>\n",
       "    </tr>\n",
       "    <tr>\n",
       "      <th>1</th>\n",
       "      <td>ALABAMA</td>\n",
       "      <td>False</td>\n",
       "      <td>2001</td>\n",
       "      <td>24741</td>\n",
       "      <td>False</td>\n",
       "      <td>False</td>\n",
       "      <td>4468912.0</td>\n",
       "      <td>19582.0</td>\n",
       "      <td>379.0</td>\n",
       "      <td>5584.0</td>\n",
       "      <td>12250.0</td>\n",
       "      <td>173253.0</td>\n",
       "      <td>40642.0</td>\n",
       "      <td>119992.0</td>\n",
       "      <td>12619.0</td>\n",
       "      <td>1369.0</td>\n",
       "    </tr>\n",
       "    <tr>\n",
       "      <th>2</th>\n",
       "      <td>ALASKA</td>\n",
       "      <td>True</td>\n",
       "      <td>2001</td>\n",
       "      <td>4570</td>\n",
       "      <td>False</td>\n",
       "      <td>False</td>\n",
       "      <td>633630.0</td>\n",
       "      <td>3735.0</td>\n",
       "      <td>39.0</td>\n",
       "      <td>514.0</td>\n",
       "      <td>2681.0</td>\n",
       "      <td>23160.0</td>\n",
       "      <td>3847.0</td>\n",
       "      <td>16695.0</td>\n",
       "      <td>2618.0</td>\n",
       "      <td>501.0</td>\n",
       "    </tr>\n",
       "    <tr>\n",
       "      <th>3</th>\n",
       "      <td>ARIZONA</td>\n",
       "      <td>False</td>\n",
       "      <td>2001</td>\n",
       "      <td>27710</td>\n",
       "      <td>False</td>\n",
       "      <td>False</td>\n",
       "      <td>5306966.0</td>\n",
       "      <td>28675.0</td>\n",
       "      <td>400.0</td>\n",
       "      <td>8868.0</td>\n",
       "      <td>17889.0</td>\n",
       "      <td>293874.0</td>\n",
       "      <td>54821.0</td>\n",
       "      <td>186850.0</td>\n",
       "      <td>52203.0</td>\n",
       "      <td>1518.0</td>\n",
       "    </tr>\n",
       "    <tr>\n",
       "      <th>4</th>\n",
       "      <td>ARKANSAS</td>\n",
       "      <td>False</td>\n",
       "      <td>2001</td>\n",
       "      <td>11489</td>\n",
       "      <td>False</td>\n",
       "      <td>False</td>\n",
       "      <td>2694698.0</td>\n",
       "      <td>12190.0</td>\n",
       "      <td>148.0</td>\n",
       "      <td>2181.0</td>\n",
       "      <td>8969.0</td>\n",
       "      <td>99106.0</td>\n",
       "      <td>22196.0</td>\n",
       "      <td>69590.0</td>\n",
       "      <td>7320.0</td>\n",
       "      <td>892.0</td>\n",
       "    </tr>\n",
       "    <tr>\n",
       "      <th>...</th>\n",
       "      <td>...</td>\n",
       "      <td>...</td>\n",
       "      <td>...</td>\n",
       "      <td>...</td>\n",
       "      <td>...</td>\n",
       "      <td>...</td>\n",
       "      <td>...</td>\n",
       "      <td>...</td>\n",
       "      <td>...</td>\n",
       "      <td>...</td>\n",
       "      <td>...</td>\n",
       "      <td>...</td>\n",
       "      <td>...</td>\n",
       "      <td>...</td>\n",
       "      <td>...</td>\n",
       "      <td>...</td>\n",
       "    </tr>\n",
       "    <tr>\n",
       "      <th>811</th>\n",
       "      <td>VIRGINIA</td>\n",
       "      <td>False</td>\n",
       "      <td>2016</td>\n",
       "      <td>29882</td>\n",
       "      <td>False</td>\n",
       "      <td>False</td>\n",
       "      <td>8414380.0</td>\n",
       "      <td>18495.0</td>\n",
       "      <td>482.0</td>\n",
       "      <td>4826.0</td>\n",
       "      <td>10357.0</td>\n",
       "      <td>157292.0</td>\n",
       "      <td>20159.0</td>\n",
       "      <td>127285.0</td>\n",
       "      <td>9848.0</td>\n",
       "      <td>2830.0</td>\n",
       "    </tr>\n",
       "    <tr>\n",
       "      <th>812</th>\n",
       "      <td>WASHINGTON</td>\n",
       "      <td>False</td>\n",
       "      <td>2016</td>\n",
       "      <td>17228</td>\n",
       "      <td>False</td>\n",
       "      <td>False</td>\n",
       "      <td>7280934.0</td>\n",
       "      <td>22101.0</td>\n",
       "      <td>195.0</td>\n",
       "      <td>5649.0</td>\n",
       "      <td>13124.0</td>\n",
       "      <td>254994.0</td>\n",
       "      <td>49249.0</td>\n",
       "      <td>173423.0</td>\n",
       "      <td>32322.0</td>\n",
       "      <td>3133.0</td>\n",
       "    </tr>\n",
       "    <tr>\n",
       "      <th>813</th>\n",
       "      <td>WEST VIRGINIA</td>\n",
       "      <td>False</td>\n",
       "      <td>2016</td>\n",
       "      <td>5899</td>\n",
       "      <td>False</td>\n",
       "      <td>False</td>\n",
       "      <td>1828637.0</td>\n",
       "      <td>6633.0</td>\n",
       "      <td>85.0</td>\n",
       "      <td>720.0</td>\n",
       "      <td>5144.0</td>\n",
       "      <td>37282.0</td>\n",
       "      <td>9127.0</td>\n",
       "      <td>25657.0</td>\n",
       "      <td>2498.0</td>\n",
       "      <td>684.0</td>\n",
       "    </tr>\n",
       "    <tr>\n",
       "      <th>814</th>\n",
       "      <td>WISCONSIN</td>\n",
       "      <td>False</td>\n",
       "      <td>2016</td>\n",
       "      <td>23163</td>\n",
       "      <td>False</td>\n",
       "      <td>False</td>\n",
       "      <td>5772917.0</td>\n",
       "      <td>17716.0</td>\n",
       "      <td>232.0</td>\n",
       "      <td>4707.0</td>\n",
       "      <td>10772.0</td>\n",
       "      <td>111911.0</td>\n",
       "      <td>19498.0</td>\n",
       "      <td>82455.0</td>\n",
       "      <td>9958.0</td>\n",
       "      <td>2005.0</td>\n",
       "    </tr>\n",
       "    <tr>\n",
       "      <th>815</th>\n",
       "      <td>WYOMING</td>\n",
       "      <td>False</td>\n",
       "      <td>2016</td>\n",
       "      <td>2352</td>\n",
       "      <td>False</td>\n",
       "      <td>False</td>\n",
       "      <td>584910.0</td>\n",
       "      <td>1431.0</td>\n",
       "      <td>20.0</td>\n",
       "      <td>59.0</td>\n",
       "      <td>1146.0</td>\n",
       "      <td>11460.0</td>\n",
       "      <td>1771.0</td>\n",
       "      <td>8889.0</td>\n",
       "      <td>800.0</td>\n",
       "      <td>206.0</td>\n",
       "    </tr>\n",
       "  </tbody>\n",
       "</table>\n",
       "<p>816 rows × 16 columns</p>\n",
       "</div>"
      ],
      "text/plain": [
       "            states  includes_jails  year  prisoner_count  \\\n",
       "0          FEDERAL           False  2001          149852   \n",
       "1          ALABAMA           False  2001           24741   \n",
       "2           ALASKA            True  2001            4570   \n",
       "3          ARIZONA           False  2001           27710   \n",
       "4         ARKANSAS           False  2001           11489   \n",
       "..             ...             ...   ...             ...   \n",
       "811       VIRGINIA           False  2016           29882   \n",
       "812     WASHINGTON           False  2016           17228   \n",
       "813  WEST VIRGINIA           False  2016            5899   \n",
       "814      WISCONSIN           False  2016           23163   \n",
       "815        WYOMING           False  2016            2352   \n",
       "\n",
       "    crime_reporting_change crimes_estimated  state_population  \\\n",
       "0                      NaN              NaN               NaN   \n",
       "1                    False            False         4468912.0   \n",
       "2                    False            False          633630.0   \n",
       "3                    False            False         5306966.0   \n",
       "4                    False            False         2694698.0   \n",
       "..                     ...              ...               ...   \n",
       "811                  False            False         8414380.0   \n",
       "812                  False            False         7280934.0   \n",
       "813                  False            False         1828637.0   \n",
       "814                  False            False         5772917.0   \n",
       "815                  False            False          584910.0   \n",
       "\n",
       "     violent_crime_total  murder_manslaughter  robbery  agg_assault  \\\n",
       "0                    NaN                  NaN      NaN          NaN   \n",
       "1                19582.0                379.0   5584.0      12250.0   \n",
       "2                 3735.0                 39.0    514.0       2681.0   \n",
       "3                28675.0                400.0   8868.0      17889.0   \n",
       "4                12190.0                148.0   2181.0       8969.0   \n",
       "..                   ...                  ...      ...          ...   \n",
       "811              18495.0                482.0   4826.0      10357.0   \n",
       "812              22101.0                195.0   5649.0      13124.0   \n",
       "813               6633.0                 85.0    720.0       5144.0   \n",
       "814              17716.0                232.0   4707.0      10772.0   \n",
       "815               1431.0                 20.0     59.0       1146.0   \n",
       "\n",
       "     property_crime_total  burglary   larceny  vehicle_theft    rape  \n",
       "0                     NaN       NaN       NaN            NaN     0.0  \n",
       "1                173253.0   40642.0  119992.0        12619.0  1369.0  \n",
       "2                 23160.0    3847.0   16695.0         2618.0   501.0  \n",
       "3                293874.0   54821.0  186850.0        52203.0  1518.0  \n",
       "4                 99106.0   22196.0   69590.0         7320.0   892.0  \n",
       "..                    ...       ...       ...            ...     ...  \n",
       "811              157292.0   20159.0  127285.0         9848.0  2830.0  \n",
       "812              254994.0   49249.0  173423.0        32322.0  3133.0  \n",
       "813               37282.0    9127.0   25657.0         2498.0   684.0  \n",
       "814              111911.0   19498.0   82455.0         9958.0  2005.0  \n",
       "815               11460.0    1771.0    8889.0          800.0   206.0  \n",
       "\n",
       "[816 rows x 16 columns]"
      ]
     },
     "execution_count": 60,
     "metadata": {},
     "output_type": "execute_result"
    }
   ],
   "source": [
    "df"
   ]
  },
  {
   "cell_type": "code",
   "execution_count": 62,
   "id": "764a1965-e32c-4192-baa1-a2c4535444aa",
   "metadata": {},
   "outputs": [
    {
     "data": {
      "text/plain": [
       "Index(['states', 'includes_jails', 'year', 'prisoner_count',\n",
       "       'crime_reporting_change', 'crimes_estimated', 'state_population',\n",
       "       'violent_crime_total', 'murder_manslaughter', 'robbery', 'agg_assault',\n",
       "       'property_crime_total', 'burglary', 'larceny', 'vehicle_theft', 'rape'],\n",
       "      dtype='object')"
      ]
     },
     "execution_count": 62,
     "metadata": {},
     "output_type": "execute_result"
    }
   ],
   "source": [
    "df.columns"
   ]
  },
  {
   "cell_type": "code",
   "execution_count": 65,
   "id": "92638a6b-71e9-4c23-bf51-899c82f56f25",
   "metadata": {},
   "outputs": [],
   "source": [
    "df.to_csv('current_data/crime_and_incarceration_by_state.csv', index = False)"
   ]
  },
  {
   "cell_type": "code",
   "execution_count": 69,
   "id": "6cb7965e-555e-4d34-a909-4c12bd474531",
   "metadata": {},
   "outputs": [
    {
     "data": {
      "text/plain": [
       "array([nan, False, True], dtype=object)"
      ]
     },
     "execution_count": 69,
     "metadata": {},
     "output_type": "execute_result"
    }
   ],
   "source": [
    "df['crime_reporting_change'].unique()"
   ]
  },
  {
   "cell_type": "code",
   "execution_count": 71,
   "id": "4fb0ed55-5948-4656-9c1f-5eccb2b29420",
   "metadata": {},
   "outputs": [
    {
     "data": {
      "text/plain": [
       "array([nan, False, True], dtype=object)"
      ]
     },
     "execution_count": 71,
     "metadata": {},
     "output_type": "execute_result"
    }
   ],
   "source": [
    "df['crimes_estimated'].unique()"
   ]
  },
  {
   "cell_type": "code",
   "execution_count": 73,
   "id": "481b4a04-fc04-45eb-a3a9-1af5d3e538d1",
   "metadata": {},
   "outputs": [
    {
     "data": {
      "text/plain": [
       "array([False,  True])"
      ]
     },
     "execution_count": 73,
     "metadata": {},
     "output_type": "execute_result"
    }
   ],
   "source": [
    "df['includes_jails'].unique()"
   ]
  },
  {
   "cell_type": "code",
   "execution_count": 76,
   "id": "1b2db0b3-2328-4552-933b-a76c1b1d7fc9",
   "metadata": {},
   "outputs": [
    {
     "data": {
      "text/plain": [
       "Index(['states', 'includes_jails', 'year', 'prisoner_count',\n",
       "       'crime_reporting_change', 'crimes_estimated', 'state_population',\n",
       "       'violent_crime_total', 'murder_manslaughter', 'robbery', 'agg_assault',\n",
       "       'property_crime_total', 'burglary', 'larceny', 'vehicle_theft', 'rape'],\n",
       "      dtype='object')"
      ]
     },
     "execution_count": 76,
     "metadata": {},
     "output_type": "execute_result"
    }
   ],
   "source": [
    "df.columns"
   ]
  },
  {
   "cell_type": "code",
   "execution_count": 85,
   "id": "8e55056c-150c-4efb-bd20-cfffeb4f812d",
   "metadata": {},
   "outputs": [],
   "source": [
    "df =df.drop('includes_jails', axis =1)"
   ]
  },
  {
   "cell_type": "code",
   "execution_count": 87,
   "id": "8619ebe4-215d-4221-98cb-390b3613c10c",
   "metadata": {},
   "outputs": [],
   "source": [
    "df = df.drop('crime_reporting_change', axis=1)"
   ]
  },
  {
   "cell_type": "code",
   "execution_count": 89,
   "id": "0817fa29-080c-49c2-9223-19805cfc0374",
   "metadata": {},
   "outputs": [],
   "source": [
    "df = df.drop('crimes_estimated', axis=1)"
   ]
  },
  {
   "cell_type": "code",
   "execution_count": 94,
   "id": "4ad85eec-7019-4d3a-8f0a-0c6171bb679a",
   "metadata": {},
   "outputs": [],
   "source": [
    "df.to_csv('current_data/crime_and_incarceration_by_state.csv', index = False)"
   ]
  },
  {
   "cell_type": "code",
   "execution_count": null,
   "id": "723c1881-30f2-49eb-a7bf-f7d3b733cbce",
   "metadata": {},
   "outputs": [],
   "source": []
  }
 ],
 "metadata": {
  "kernelspec": {
   "display_name": "Python 3 (ipykernel)",
   "language": "python",
   "name": "python3"
  },
  "language_info": {
   "codemirror_mode": {
    "name": "ipython",
    "version": 3
   },
   "file_extension": ".py",
   "mimetype": "text/x-python",
   "name": "python",
   "nbconvert_exporter": "python",
   "pygments_lexer": "ipython3",
   "version": "3.11.7"
  }
 },
 "nbformat": 4,
 "nbformat_minor": 5
}

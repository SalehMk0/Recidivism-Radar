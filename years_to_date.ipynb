{
 "cells": [
  {
   "cell_type": "code",
   "execution_count": 19,
   "id": "5e3e5ae3-d773-44b0-802a-de853fdce40c",
   "metadata": {},
   "outputs": [],
   "source": [
    "import pandas as pd\n",
    "from datetime import datetime"
   ]
  },
  {
   "cell_type": "code",
   "execution_count": 33,
   "id": "a907621b-7ec6-4c24-b9ea-65201598bcd2",
   "metadata": {},
   "outputs": [],
   "source": [
    "df = pd.read_csv('current_data/socioeconomics.csv')"
   ]
  },
  {
   "cell_type": "code",
   "execution_count": 35,
   "id": "f3f4450e-746b-488b-924a-abd30b5cdce4",
   "metadata": {},
   "outputs": [],
   "source": [
    "df = df.rename(columns={'Year': 'date'})"
   ]
  },
  {
   "cell_type": "code",
   "execution_count": 37,
   "id": "bdcf2131-57d8-42cf-b010-ede0647a5917",
   "metadata": {},
   "outputs": [],
   "source": [
    "df['date'] = pd.to_datetime(df['date'], format='%Y')  \n",
    "df['date'] = df['date'].dt.strftime('01-01-%Y')  "
   ]
  },
  {
   "cell_type": "code",
   "execution_count": 39,
   "id": "8e6a25b9-59a8-4d78-a3e2-f4d97a709928",
   "metadata": {},
   "outputs": [
    {
     "data": {
      "text/plain": [
       "State                  object\n",
       "date                   object\n",
       "Unemployment_Rate     float64\n",
       "participation_Rate    float64\n",
       "dtype: object"
      ]
     },
     "execution_count": 39,
     "metadata": {},
     "output_type": "execute_result"
    }
   ],
   "source": [
    "df.dtypes"
   ]
  },
  {
   "cell_type": "code",
   "execution_count": 41,
   "id": "4fd25704-bc9f-4cc2-9d3d-bf75a6efa00f",
   "metadata": {},
   "outputs": [],
   "source": [
    "df['date'] = pd.to_datetime(df['date'], format='%d-%m-%Y')"
   ]
  },
  {
   "cell_type": "code",
   "execution_count": 43,
   "id": "501a09b1-1d08-43ae-948c-9e903130d441",
   "metadata": {},
   "outputs": [
    {
     "data": {
      "text/plain": [
       "State                         object\n",
       "date                  datetime64[ns]\n",
       "Unemployment_Rate            float64\n",
       "participation_Rate           float64\n",
       "dtype: object"
      ]
     },
     "execution_count": 43,
     "metadata": {},
     "output_type": "execute_result"
    }
   ],
   "source": [
    "df.dtypes"
   ]
  },
  {
   "cell_type": "code",
   "execution_count": 45,
   "id": "9de78f7c-f62a-49f7-a014-2d1513bc36ab",
   "metadata": {},
   "outputs": [
    {
     "data": {
      "text/plain": [
       "0      1976-01-01\n",
       "1      1977-01-01\n",
       "2      1978-01-01\n",
       "3      1979-01-01\n",
       "4      1980-01-01\n",
       "          ...    \n",
       "2443   2019-01-01\n",
       "2444   2020-01-01\n",
       "2445   2021-01-01\n",
       "2446   2022-01-01\n",
       "2447   2023-01-01\n",
       "Name: date, Length: 2448, dtype: datetime64[ns]"
      ]
     },
     "execution_count": 45,
     "metadata": {},
     "output_type": "execute_result"
    }
   ],
   "source": [
    "df['date']"
   ]
  },
  {
   "cell_type": "code",
   "execution_count": 48,
   "id": "d0672cad-6920-4333-91df-ae07df09165d",
   "metadata": {},
   "outputs": [],
   "source": [
    "df.to_csv('current_data/socioeconomics.csv', index =  False)"
   ]
  },
  {
   "cell_type": "code",
   "execution_count": null,
   "id": "66e33f3b-602c-4283-8ad6-6f50543f06fe",
   "metadata": {},
   "outputs": [],
   "source": []
  }
 ],
 "metadata": {
  "kernelspec": {
   "display_name": "Python 3 (ipykernel)",
   "language": "python",
   "name": "python3"
  },
  "language_info": {
   "codemirror_mode": {
    "name": "ipython",
    "version": 3
   },
   "file_extension": ".py",
   "mimetype": "text/x-python",
   "name": "python",
   "nbconvert_exporter": "python",
   "pygments_lexer": "ipython3",
   "version": "3.11.7"
  }
 },
 "nbformat": 4,
 "nbformat_minor": 5
}

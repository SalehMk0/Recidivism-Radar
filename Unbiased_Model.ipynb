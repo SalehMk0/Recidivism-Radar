{
 "cells": [
  {
   "cell_type": "code",
   "execution_count": 1,
   "id": "d992290b-ebbb-49ce-ad4e-c6e4c49e4c51",
   "metadata": {},
   "outputs": [],
   "source": [
    "# Import necessary libraries\n",
    "from sklearn.ensemble import RandomForestClassifier\n",
    "from sklearn.metrics import accuracy_score, mean_squared_error, f1_score\n",
    "from sklearn.model_selection import train_test_split\n",
    "import pandas as pd\n",
    "import numpy as np\n",
    "import mlflow\n",
    "import mlflow.sklearn\n",
    "\n",
    "# Set MLflow tracking URI\n",
    "mlflow.set_tracking_uri(\"mlruns\")\n",
    "\n",
    "\n"
   ]
  },
  {
   "cell_type": "code",
   "execution_count": 2,
   "id": "15ab7328-9c80-48f2-8fdc-d986caf7fdcb",
   "metadata": {},
   "outputs": [
    {
     "name": "stderr",
     "output_type": "stream",
     "text": [
      "C:\\Users\\user\\AppData\\Local\\Temp\\ipykernel_9804\\2467989078.py:2: DtypeWarning: Columns (2,4,13,14,17,19,21,22,25,26,28,29,30,31) have mixed types. Specify dtype option on import or set low_memory=False.\n",
      "  df = pd.read_csv('partitions/encoded_data.csv')\n"
     ]
    }
   ],
   "source": [
    "# Load dataset\n",
    "df = pd.read_csv('partitions/encoded_data.csv')\n",
    "\n",
    "# Define features and target\n",
    "x = df[['age', 'sex', 'total_juvenile_offenses', 'detention_period', 'prior_offense_count', 'current_charge_degree']]\n",
    "y = df['is_recidivist']\n",
    "\n",
    "# Split the data\n",
    "x_train, x_test, y_train, y_test = train_test_split(x, y, test_size=0.2, random_state=28)\n",
    "\n",
    "# Initialize and train the model\n",
    "model = RandomForestClassifier(n_estimators=100, max_depth=10, random_state=28)\n",
    "model.fit(x_train, y_train)\n",
    "\n",
    "# Make predictions\n",
    "y_pred = model.predict(x_test)\n"
   ]
  },
  {
   "cell_type": "code",
   "execution_count": 3,
   "id": "1363f11b",
   "metadata": {},
   "outputs": [
    {
     "name": "stdout",
     "output_type": "stream",
     "text": [
      "Model Accuracy:  0.8605094025232087\n",
      "RMSE:  0.3791771243063573\n",
      "F1 Score:  0.8548187965382982\n"
     ]
    }
   ],
   "source": [
    "# Evaluate model performance\n",
    "accuracy = accuracy_score(y_test, y_pred)\n",
    "rmse = np.sqrt(mean_squared_error(y_test, y_pred))\n",
    "f1 = f1_score(y_test, y_pred, average='weighted')\n",
    "\n",
    "print(\"Model Accuracy: \", accuracy)\n",
    "print(\"RMSE: \", rmse)\n",
    "print(\"F1 Score: \", f1)\n"
   ]
  },
  {
   "cell_type": "code",
   "execution_count": 4,
   "id": "ca849c94",
   "metadata": {},
   "outputs": [
    {
     "name": "stdout",
     "output_type": "stream",
     "text": [
      "Prediction (1 means recidivist, 0 means not recidivist): 1\n"
     ]
    }
   ],
   "source": [
    "def predict_recidivism(input_data):\n",
    "    \"\"\"\n",
    "    Predicts whether an individual is a recidivist based on input features.\n",
    "    \n",
    "    Parameters:\n",
    "    - input_data (dict): Dictionary containing feature values.\n",
    "    \n",
    "    Returns:\n",
    "    - prediction (int): 0 or 1, indicating whether the individual is a recidivist or not.\n",
    "    \"\"\"\n",
    "    # Convert input data to a DataFrame\n",
    "    input_df = pd.DataFrame([input_data])\n",
    "    \n",
    "    # Ensure the input DataFrame has the same feature columns as the training data\n",
    "    input_df = input_df[['age', 'sex', 'total_juvenile_offenses', 'detention_period', 'prior_offense_count', 'current_charge_degree']]\n",
    "    \n",
    "    # Make prediction\n",
    "    prediction = model.predict(input_df)\n",
    "    \n",
    "    return prediction[0]\n",
    "\n",
    "# Example usage\n",
    "input_data = {\n",
    "    'age': 35,\n",
    "    'sex': 1,  \n",
    "    'total_juvenile_offenses': 5,\n",
    "    'detention_period': 120,\n",
    "    'prior_offense_count': 1,\n",
    "    'current_charge_degree': 2\n",
    "}\n",
    "\n",
    "prediction = predict_recidivism(input_data)\n",
    "print(\"Prediction (1 means recidivist, 0 means not recidivist):\", prediction)\n"
   ]
  },
  {
   "cell_type": "code",
   "execution_count": 14,
   "id": "f14eb549",
   "metadata": {},
   "outputs": [
    {
     "name": "stderr",
     "output_type": "stream",
     "text": [
      "C:\\Users\\user\\anaconda3\\Lib\\site-packages\\mlflow\\types\\utils.py:407: UserWarning: Hint: Inferred schema contains integer column(s). Integer columns in Python cannot represent missing values. If your input data contains missing values at inference time, it will be encoded as floats and will cause a schema enforcement error. The best way to avoid this problem is to infer the model schema based on a realistic data sample (training dataset) that includes missing values. Alternatively, you can declare integer columns as doubles (float64) whenever these columns may have missing values. See `Handling Integers With Missing Values <https://www.mlflow.org/docs/latest/models.html#handling-integers-with-missing-values>`_ for more details.\n",
      "  warnings.warn(\n"
     ]
    },
    {
     "data": {
      "application/vnd.jupyter.widget-view+json": {
       "model_id": "505ee16f25774e7994cb0592bbb5ba6d",
       "version_major": 2,
       "version_minor": 0
      },
      "text/plain": [
       "Downloading artifacts:   0%|          | 0/7 [00:00<?, ?it/s]"
      ]
     },
     "metadata": {},
     "output_type": "display_data"
    },
    {
     "name": "stderr",
     "output_type": "stream",
     "text": [
      "Registered model 'Unbiased_Model' already exists. Creating a new version of this model...\n",
      "Created version '4' of model 'Unbiased_Model'.\n"
     ]
    }
   ],
   "source": [
    "def mlFlowVersioning(model, model_name, input_example):\n",
    "    with mlflow.start_run() as run:\n",
    "        mlflow.sklearn.log_model(model, \"model\", input_example=input_example)\n",
    "        model_uri = f\"runs:/{run.info.run_id}/model\"\n",
    "        mlflow.register_model(model_uri, model_name)\n",
    "\n",
    "# Example input for logging\n",
    "input_example = {\n",
    "    'age': float(30),\n",
    "    'sex': float(0),\n",
    "    'total_juvenile_offenses': float(2),\n",
    "    'detention_period': float(5),\n",
    "    'prior_offense_count': float(0),\n",
    "    'current_charge_degree': float(1)\n",
    "}\n",
    "input_example_df = pd.DataFrame([input_example])\n",
    "\n",
    "mlFlowVersioning(model, \"Unbiased_Model\", input_example_df)\n"
   ]
  },
  {
   "cell_type": "code",
   "execution_count": null,
   "id": "76c99f4c-135d-4beb-b859-412e79c5c694",
   "metadata": {},
   "outputs": [],
   "source": []
  }
 ],
 "metadata": {
  "kernelspec": {
   "display_name": "Python 3 (ipykernel)",
   "language": "python",
   "name": "python3"
  },
  "language_info": {
   "codemirror_mode": {
    "name": "ipython",
    "version": 3
   },
   "file_extension": ".py",
   "mimetype": "text/x-python",
   "name": "python",
   "nbconvert_exporter": "python",
   "pygments_lexer": "ipython3",
   "version": "3.11.7"
  }
 },
 "nbformat": 4,
 "nbformat_minor": 5
}
